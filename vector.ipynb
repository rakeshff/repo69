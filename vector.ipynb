{
 "cells": [
  {
   "cell_type": "code",
   "execution_count": 1,
   "id": "2e1d42e7",
   "metadata": {},
   "outputs": [
    {
     "name": "stdout",
     "output_type": "stream",
     "text": [
      "49995000\n",
      "[10 12 14]\n",
      "[-0.7 -0.6 -4.6]\n",
      "15.2\n"
     ]
    }
   ],
   "source": [
    "import numpy as np\n",
    "print(np.sum(np.arange(10000)))\n",
    "print(2 * np.array([5,6,7]))\n",
    "print(np.array([2.5,3.5,4.5])-np.array([3.2,4.1,9.1]))\n",
    "print(np.dot(np.array([1,-3,4]),np.array([8.2,3,4])))"
   ]
  },
  {
   "cell_type": "code",
   "execution_count": null,
   "id": "ede08f78",
   "metadata": {},
   "outputs": [],
   "source": []
  }
 ],
 "metadata": {
  "kernelspec": {
   "display_name": "Python 3 (ipykernel)",
   "language": "python",
   "name": "python3"
  },
  "language_info": {
   "codemirror_mode": {
    "name": "ipython",
    "version": 3
   },
   "file_extension": ".py",
   "mimetype": "text/x-python",
   "name": "python",
   "nbconvert_exporter": "python",
   "pygments_lexer": "ipython3",
   "version": "3.9.13"
  }
 },
 "nbformat": 4,
 "nbformat_minor": 5
}
